{
 "cells": [
  {
   "cell_type": "code",
   "execution_count": null,
   "metadata": {},
   "outputs": [],
   "source": [
    "import pandas as pd\n",
    "import seaborn as sns\n",
    "import numpy as np\n",
    "import matplotlib.pyplot as plt\n",
    "import warnings\n",
    "warnings.filterwarnings('ignore')\n",
    "from mpl_toolkits.mplot3d import Axes3D\n",
    "from sklearn.preprocessing import LabelEncoder\n",
    "from scipy.stats import chi2_contingency\n",
    "import imblearn\n",
    "import sklearn\n",
    "from imblearn.over_sampling import SMOTE\n",
    "from sklearn.model_selection import train_test_split"
   ]
  },
  {
   "cell_type": "code",
   "execution_count": null,
   "metadata": {},
   "outputs": [],
   "source": [
    "test_data = pd.read_csv('test.csv')\n",
    "train_data = pd.read_csv('train.csv')"
   ]
  },
  {
   "cell_type": "markdown",
   "metadata": {},
   "source": [
    "Train Data"
   ]
  },
  {
   "cell_type": "code",
   "execution_count": null,
   "metadata": {},
   "outputs": [],
   "source": [
    "train_data"
   ]
  },
  {
   "cell_type": "markdown",
   "metadata": {},
   "source": [
    "Test Data"
   ]
  },
  {
   "cell_type": "code",
   "execution_count": null,
   "metadata": {},
   "outputs": [],
   "source": [
    "test_data"
   ]
  },
  {
   "cell_type": "code",
   "execution_count": null,
   "metadata": {},
   "outputs": [],
   "source": [
    "# Remove quotes and replace spaces with underscores\n",
    "train_data.columns = [col.strip().replace(\"'\", '').replace(' ', '_') for col in train_data.columns]\n",
    "\n",
    "test_data.columns = [col.strip().replace(\"'\", '').replace(' ', '_') for col in test_data.columns]"
   ]
  },
  {
   "cell_type": "code",
   "execution_count": null,
   "metadata": {},
   "outputs": [],
   "source": [
    "train_data = train_data.rename(columns={\n",
    "    'Genes_in_mothers_side': 'Genes_Mothers_Side',\n",
    "    'Inherited_from_father': 'Inherited_Father',\n",
    "    'Blood_cell_count_(mcL)': 'Blood_Cell_mcL',\n",
    "    'Respiratory_Rate_(breaths/min)': 'Respiratory_Rate_breaths_min',\n",
    "    'Heart_Rate_(rates/min': 'Heart_Rates_Min',\n",
    "    'Follow-up': 'Follow_up',\n",
    "    'Autopsy_shows_birth_defect_(if_applicable)': 'Autopsy_Birth_Defect',\n",
    "    'Folic_acid_details_(peri-conceptional)': 'Folic_Acid',\n",
    "    'H/O_serious_maternal_illness': 'Maternal_Illness',\n",
    "    'H/O_radiation_exposure_(x-ray)': 'Radiation_Exposure',\n",
    "    'H/O_substance_abuse': 'Substance_Abuse',\n",
    "    'Assisted_conception_IVF/ART': 'Assisted_Conception',\n",
    "    'History_of_anomalies_in_previous_pregnancies': 'History_Previous_Pregnancies',\n",
    "    'No._of_previous_abortion': 'Previous_Abortion',\n",
    "    'Birth_defects': 'Birth_Defects',\n",
    "    'White_Blood_cell_count_(thousand_per_microliter)': 'White_Blood_Cell',\n",
    "})"
   ]
  },
  {
   "cell_type": "code",
   "execution_count": null,
   "metadata": {},
   "outputs": [],
   "source": [
    "train_data.columns"
   ]
  },
  {
   "cell_type": "markdown",
   "metadata": {},
   "source": [
    "If Genetic_Disorder is NaN, removing those rows"
   ]
  },
  {
   "cell_type": "code",
   "execution_count": null,
   "metadata": {},
   "outputs": [],
   "source": [
    "# Drop rows where 'Genetic_Disorder' is NaN\n",
    "train_data.dropna(subset=['Genetic_Disorder'], inplace=True)\n",
    "\n",
    "# Reset the index to update row numbers and avoid keeping the old index\n",
    "train_data.reset_index(drop=True, inplace=True)"
   ]
  },
  {
   "cell_type": "markdown",
   "metadata": {},
   "source": [
    "Dropping the unnecessary data columns - Based on Optimised Paper"
   ]
  },
  {
   "cell_type": "code",
   "execution_count": null,
   "metadata": {},
   "outputs": [],
   "source": [
    "train_data = train_data.drop(columns=['Patient_Id','Patient_First_Name', 'Family_Name',\n",
    "       'Fathers_name','Institute_Name', 'Place_of_birth',\n",
    "       'Location_of_Institute', 'Test_1', 'Test_2', 'Test_3', 'Test_4',\n",
    "       'Test_5', \n",
    "       'Symptom_1', 'Symptom_2', 'Symptom_3', 'Symptom_4', 'Symptom_5'])"
   ]
  },
  {
   "cell_type": "code",
   "execution_count": null,
   "metadata": {},
   "outputs": [],
   "source": [
    "print(train_data.info())"
   ]
  },
  {
   "cell_type": "code",
   "execution_count": null,
   "metadata": {},
   "outputs": [],
   "source": [
    "train_data.describe().T"
   ]
  },
  {
   "cell_type": "code",
   "execution_count": null,
   "metadata": {},
   "outputs": [],
   "source": [
    "train_data.isnull().sum()"
   ]
  },
  {
   "cell_type": "code",
   "execution_count": null,
   "metadata": {},
   "outputs": [],
   "source": [
    "train_data.duplicated().sum()"
   ]
  },
  {
   "cell_type": "code",
   "execution_count": null,
   "metadata": {},
   "outputs": [],
   "source": [
    "train_data.columns"
   ]
  },
  {
   "cell_type": "code",
   "execution_count": null,
   "metadata": {},
   "outputs": [],
   "source": [
    "print(train_data[\"Genes_Mothers_Side\"].value_counts())"
   ]
  },
  {
   "cell_type": "code",
   "execution_count": null,
   "metadata": {},
   "outputs": [],
   "source": [
    "print(train_data['Genetic_Disorder'].value_counts())"
   ]
  },
  {
   "cell_type": "code",
   "execution_count": null,
   "metadata": {},
   "outputs": [],
   "source": [
    "def get_unique(train_data):\n",
    "    for i in train_data.columns:\n",
    "        print(f'{i} - > {len(train_data[i].unique())}')\n",
    "get_unique(train_data)"
   ]
  },
  {
   "cell_type": "code",
   "execution_count": null,
   "metadata": {},
   "outputs": [],
   "source": [
    "# Continuous features with median imputation\n",
    "train_data['Patient_Age'].fillna(train_data['Patient_Age'].median(), inplace=True)\n",
    "train_data['Blood_Cell_mcL'].fillna(train_data['Blood_Cell_mcL'].median(), inplace=True)\n",
    "train_data['White_Blood_Cell'].fillna(train_data['White_Blood_Cell'].median(), inplace=True)\n",
    "\n",
    "# Categorical/ordinal features with mode imputation\n",
    "columns_to_fill_mode = [\n",
    "    'Genes_Mothers_Side', 'Inherited_Father', 'Maternal_gene', 'Paternal_gene','Mothers_age',\n",
    "    'Fathers_age','Status', 'Respiratory_Rate_breaths_min', 'Heart_Rates_Min', \n",
    "    'Parental_consent', 'Follow_up', 'Gender', 'Birth_asphyxia','Autopsy_Birth_Defect',  \n",
    "    'Folic_Acid', \n",
    "    'Maternal_Illness', 'Radiation_Exposure', \n",
    "    'Substance_Abuse', 'Assisted_Conception', \n",
    "    'History_Previous_Pregnancies','Previous_Abortion', 'Birth_Defects', \n",
    "    'Blood_test_result', 'Disorder_Subclass'\n",
    "]\n",
    "\n",
    "for col in columns_to_fill_mode:\n",
    "    train_data[col].fillna(train_data[col].mode()[0], inplace=True)\n",
    "\n"
   ]
  },
  {
   "cell_type": "code",
   "execution_count": null,
   "metadata": {},
   "outputs": [],
   "source": [
    "train_data.isnull().sum()"
   ]
  },
  {
   "cell_type": "code",
   "execution_count": null,
   "metadata": {},
   "outputs": [],
   "source": [
    "print(\"Status: \",train_data[\"Status\"].unique())\n",
    "print(\"Respiratory Rate (breaths/min): \",train_data[\"Respiratory_Rate_breaths_min\"].unique())\n",
    "print(\"Heart Rate: \",train_data[\"Heart_Rates_Min\"].unique())\n",
    "print(\"Follow-up: \",train_data[\"Follow_up\"].unique())\n",
    "print(\"Gender: \",train_data[\"Gender\"].unique())\n",
    "print(\"Autopsy shows birth defect: \",train_data[\"Autopsy_Birth_Defect\"].unique())\n",
    "print(\"Birth defects: \",train_data[\"Birth_Defects\"].unique())\n",
    "print(\"Blood test result: \",train_data[\"Blood_test_result\"].unique())\n",
    "print(\"Genetic Disorder: \",train_data[\"Genetic_Disorder\"].unique())\n",
    "print(\"Disorder Subclass: \",train_data[\"Disorder_Subclass\"].unique())"
   ]
  },
  {
   "cell_type": "code",
   "execution_count": null,
   "metadata": {},
   "outputs": [],
   "source": [
    "train_data"
   ]
  },
  {
   "cell_type": "code",
   "execution_count": null,
   "metadata": {},
   "outputs": [],
   "source": [
    "# Function to calculate Cramér's V\n",
    "def cramers_v(x, y):\n",
    "    confusion_matrix = pd.crosstab(x, y)\n",
    "    chi2 = chi2_contingency(confusion_matrix)[0]\n",
    "    n = confusion_matrix.sum().sum()\n",
    "    return np.sqrt(chi2 / (n * (min(confusion_matrix.shape)-1)))\n",
    "\n",
    "# Create a Cramér's V correlation matrix\n",
    "def cramers_v_matrix(data):\n",
    "    cols = data.columns\n",
    "    correlation_matrix = pd.DataFrame(index=cols, columns=cols)\n",
    "\n",
    "    for i in range(len(cols)):\n",
    "        for j in range(len(cols)):\n",
    "            correlation_matrix.iloc[i, j] = cramers_v(data[cols[i]], data[cols[j]])\n",
    "\n",
    "    return correlation_matrix.astype(float)\n",
    "\n",
    "# Assuming train_data is your DataFrame with all categorical values\n",
    "cramers_v_corr = cramers_v_matrix(train_data)\n",
    "\n",
    "# Create a heatmap\n",
    "plt.figure(figsize=(12, 8))\n",
    "sns.heatmap(cramers_v_corr, annot=True, fmt=\".2f\", cmap='coolwarm', square=True, cbar_kws={\"shrink\": .8})\n",
    "plt.title(\"Cramér's V Correlation Heatmap\")\n",
    "plt.show()"
   ]
  },
  {
   "cell_type": "markdown",
   "metadata": {},
   "source": [
    "# EDA"
   ]
  },
  {
   "cell_type": "code",
   "execution_count": null,
   "metadata": {},
   "outputs": [],
   "source": [
    "#plt.style.use('seaborn-dark')\n",
    "sns.displot(x = 'Patient_Age', data = train_data);"
   ]
  },
  {
   "cell_type": "code",
   "execution_count": null,
   "metadata": {},
   "outputs": [],
   "source": [
    "sns.displot(x = 'Mothers_age', data = train_data);"
   ]
  },
  {
   "cell_type": "code",
   "execution_count": null,
   "metadata": {},
   "outputs": [],
   "source": [
    "sns.displot(x = 'Fathers_age', data = train_data);"
   ]
  },
  {
   "cell_type": "code",
   "execution_count": null,
   "metadata": {},
   "outputs": [],
   "source": [
    "\n",
    "plt.figure(figsize=(12, 4))\n",
    "sns.countplot(x = 'Genetic_Disorder', data = train_data,palette='pastel');"
   ]
  },
  {
   "cell_type": "code",
   "execution_count": null,
   "metadata": {},
   "outputs": [],
   "source": [
    "labels1 = 'Mitochondrial genetic inheritance disorders', 'Single-gene inheritance diseases', 'Multifactorial genetic inheritance disorders'\n",
    "explode1 = (0, 0, 0)\n",
    "\n",
    "\n",
    "plt.pie(train_data.Genetic_Disorder.value_counts(), explode=explode1, labels=labels1, autopct='%1.1f%%',\n",
    "        shadow=True, startangle=90);"
   ]
  },
  {
   "cell_type": "code",
   "execution_count": null,
   "metadata": {},
   "outputs": [],
   "source": [
    "plt.figure(figsize=(18, 6))\n",
    "sns.countplot(x = 'Disorder_Subclass', data = train_data, palette='Set2');"
   ]
  },
  {
   "cell_type": "code",
   "execution_count": null,
   "metadata": {},
   "outputs": [],
   "source": [
    "unique_subclasses = train_data.Disorder_Subclass.value_counts()\n",
    "print(unique_subclasses)"
   ]
  },
  {
   "cell_type": "code",
   "execution_count": null,
   "metadata": {},
   "outputs": [],
   "source": [
    "\n",
    "labels2 = ['Leigh syndrome', 'Mitochondrial myopathy', 'Cystic fibrosis', 'Tay-Sachs', 'Diabetes', 'Hemochromatosis',\n",
    "\"Leber's hereditary optic neuropathy\", \"Alzheimer's\", 'Cancer']\n",
    "\n",
    "explode2 = (0, 0, 0, 0, 0, 0, 0, 0,0)\n",
    "\n",
    "plt.pie(train_data.Disorder_Subclass.value_counts(), explode=explode2, labels=labels2, autopct='%1.1f%%',\n",
    "        shadow=True, startangle=30);"
   ]
  },
  {
   "cell_type": "code",
   "execution_count": null,
   "metadata": {},
   "outputs": [],
   "source": [
    "cols  = ['Genes_Mothers_Side', 'Inherited_Father', 'Maternal_gene', 'Paternal_gene', \n",
    "          'Gender', 'Birth_asphyxia', 'Autopsy_Birth_Defect', \n",
    "         'Folic_Acid',\n",
    "        'Maternal_Illness',\n",
    "         'Radiation_Exposure', 'Substance_Abuse', 'Assisted_Conception', 'Birth_Defects']\n",
    "\n",
    "\n",
    "fig, ax = plt.subplots(len(cols),  figsize = (15, 45), constrained_layout = True)\n",
    "\n",
    "for i, var in enumerate(cols): \n",
    "    sns.countplot(data = train_data, x = var, hue = 'Genetic_Disorder', ax = ax[i], linewidth = 1.5)\n",
    "    ax[i].set_ylabel(var)\n",
    "    ax[i].set_xlabel(None)"
   ]
  },
  {
   "cell_type": "code",
   "execution_count": null,
   "metadata": {},
   "outputs": [],
   "source": [
    "train_data"
   ]
  },
  {
   "cell_type": "markdown",
   "metadata": {},
   "source": []
  },
  {
   "cell_type": "markdown",
   "metadata": {},
   "source": [
    "Encoding"
   ]
  },
  {
   "cell_type": "code",
   "execution_count": null,
   "metadata": {},
   "outputs": [],
   "source": [
    "encode_train_data = train_data.copy()"
   ]
  },
  {
   "cell_type": "code",
   "execution_count": null,
   "metadata": {},
   "outputs": [],
   "source": [
    "# Columns to encode\n",
    "columns_to_encode = [\n",
    "    \"Genes_Mothers_Side\", \"Inherited_Father\", \"Maternal_gene\", \"Paternal_gene\", \"Status\",\n",
    "    \"Respiratory_Rate_breaths_min\", \"Heart_Rates_Min\", \"Parental_consent\", \"Follow_up\",\n",
    "    \"Gender\", \"Birth_asphyxia\", \"Autopsy_Birth_Defect\", \"Folic_Acid\", \"Maternal_Illness\",\n",
    "    \"Radiation_Exposure\", \"Substance_Abuse\", \"Assisted_Conception\", \n",
    "    \"History_Previous_Pregnancies\", \"Birth_Defects\", \"Blood_test_result\", \n",
    "    \"Genetic_Disorder\", \"Disorder_Subclass\"\n",
    "]\n",
    "\n",
    "# Dictionary to store mappings for each column\n",
    "encoding_mappings = {}\n",
    "\n",
    "# Loop through each column and encode using pd.factorize()\n",
    "for col in columns_to_encode:\n",
    "    # Encode the column and get the unique values\n",
    "    encode_train_data[col], unique_values = pd.factorize(encode_train_data[col])\n",
    "    \n",
    "    # Store the mapping of encoded values to original values\n",
    "    encoding_mappings[col] = {index: value for index, value in enumerate(unique_values)}\n",
    "\n",
    "# Print each column's encoding mappings one below the other\n",
    "for col, mapping in encoding_mappings.items():\n",
    "    print(f\"Encoding mapping for '{col}':\")\n",
    "    for encoded_value, original_value in mapping.items():\n",
    "        print(f\"  {encoded_value}: {original_value}\")\n",
    "    print(\"\\n\")  # Blank line between columns for readability\n"
   ]
  },
  {
   "cell_type": "code",
   "execution_count": null,
   "metadata": {},
   "outputs": [],
   "source": [
    "encode_train_data"
   ]
  },
  {
   "cell_type": "code",
   "execution_count": null,
   "metadata": {},
   "outputs": [],
   "source": []
  },
  {
   "cell_type": "code",
   "execution_count": null,
   "metadata": {},
   "outputs": [],
   "source": [
    "# Check unique values in the 'Genetic_Disorder' column\n",
    "print(\"Unique values in 'Genetic_Disorder':\", encode_train_data['Genetic_Disorder'].unique())\n",
    "\n",
    "\n",
    "# Create a figure and a 3D subplot\n",
    "fig = plt.figure(figsize=(12, 8))\n",
    "ax = fig.add_subplot(111, projection='3d')\n",
    "\n",
    "# Define colors for different Genetic_Disorder categories\n",
    "colors = {0: 'r', 1: 'g', 2: 'b'}\n",
    "\n",
    "# Create the 3D scatter plot\n",
    "ax.scatter(\n",
    "    encode_train_data['White_Blood_Cell'],\n",
    "    encode_train_data['Blood_Cell_mcL'],\n",
    "    encode_train_data['Genetic_Disorder'],\n",
    "    c=encode_train_data['Genetic_Disorder'].map(colors),\n",
    "    alpha=0.6\n",
    ")\n",
    "\n",
    "# Setting labels and title\n",
    "ax.set_xlabel('White_Blood_Cell')\n",
    "ax.set_ylabel('Blood_Cell_mcL')\n",
    "ax.set_zlabel('Genetic Disorder (Encoded)')\n",
    "ax.set_title('3D Scatter Plot of Blood Cell Counts by Genetic Disorder')\n",
    "\n",
    "# Create a legend\n",
    "handles = [plt.Line2D([0], [0], marker='o', color='w', markerfacecolor=color, markersize=10) \n",
    "           for color in colors.values()]\n",
    "labels = ['Mitochondrial (0)', 'Multifactorial (1)', 'Single-gene (2)']\n",
    "ax.legend(handles, labels, title='Genetic Disorder')\n",
    "\n",
    "# Show the plot\n",
    "plt.show()\n"
   ]
  },
  {
   "cell_type": "code",
   "execution_count": null,
   "metadata": {},
   "outputs": [],
   "source": []
  },
  {
   "cell_type": "code",
   "execution_count": null,
   "metadata": {},
   "outputs": [],
   "source": [
    "#encode_train_data = encode_train_data.astype(\"float32\")"
   ]
  },
  {
   "cell_type": "code",
   "execution_count": null,
   "metadata": {},
   "outputs": [],
   "source": [
    "encode_train_data"
   ]
  },
  {
   "cell_type": "code",
   "execution_count": null,
   "metadata": {},
   "outputs": [],
   "source": [
    "print(\"INFO:\\n\")\n",
    "encode_train_data.info()"
   ]
  },
  {
   "cell_type": "code",
   "execution_count": null,
   "metadata": {},
   "outputs": [],
   "source": []
  },
  {
   "cell_type": "code",
   "execution_count": null,
   "metadata": {},
   "outputs": [],
   "source": [
    "# Assuming 'Genetic Disorder' is the target column with the specified classes\n",
    "X = encode_train_data.drop(['Genetic_Disorder'], axis=1)  # Drop the target column from features\n",
    "y = encode_train_data['Genetic_Disorder']  # Set target variable\n",
    "\n",
    "# Split the data into training and test sets\n",
    "X_train, X_test, y_train, y_test = train_test_split(X, y, test_size=0.2, random_state=42)\n",
    "\n",
    "# Apply SMOTE for multiclass targets\n",
    "smote = SMOTE(random_state=42)\n",
    "X_train_res, y_train_res = smote.fit_resample(X_train, y_train)\n",
    "\n",
    "# Display the class distribution after applying SMOTE\n",
    "print(\"Class distribution before SMOTE:\\n\", y_train.value_counts())\n",
    "print(\"Class distribution after SMOTE:\\n\", y_train_res.value_counts())\n"
   ]
  },
  {
   "cell_type": "markdown",
   "metadata": {},
   "source": []
  },
  {
   "cell_type": "code",
   "execution_count": null,
   "metadata": {},
   "outputs": [],
   "source": [
    "y_train_res"
   ]
  },
  {
   "cell_type": "markdown",
   "metadata": {},
   "source": [
    " 0: Mitochondrial genetic inheritance disorders\n",
    "  1: Multifactorial genetic inheritance disorders\n",
    "  2: Single-gene inheritance diseases"
   ]
  },
  {
   "cell_type": "code",
   "execution_count": null,
   "metadata": {},
   "outputs": [],
   "source": [
    "\n",
    "# Convert the SMOTE-resampled target data back into a DataFrame for plotting\n",
    "y_train_res_df = pd.DataFrame(y_train_res, columns=['Genetic_Disorder'])"
   ]
  },
  {
   "cell_type": "code",
   "execution_count": null,
   "metadata": {},
   "outputs": [],
   "source": [
    "# Define a mapping dictionary\n",
    "disorder_mapping = {\n",
    "    0: 'Mitochondrial genetic inheritance disorders',\n",
    "    1: 'Multifactorial genetic inheritance disorders',\n",
    "    2: 'Single-gene inheritance diseases'\n",
    "}\n",
    "\n",
    "# Map the numeric values to disorder names\n",
    "y_train_res_df['Genetic_Disorder'] = y_train_res_df['Genetic_Disorder'].replace(disorder_mapping)\n"
   ]
  },
  {
   "cell_type": "code",
   "execution_count": null,
   "metadata": {},
   "outputs": [],
   "source": [
    "y_train_res_df"
   ]
  },
  {
   "cell_type": "code",
   "execution_count": null,
   "metadata": {},
   "outputs": [],
   "source": [
    "# Plot the balanced class distribution\n",
    "plt.figure(figsize=(12, 4))\n",
    "sns.countplot(x='Genetic_Disorder', data=y_train_res_df, palette='pastel')\n",
    "plt.title('Class Distribution After SMOTE')\n",
    "plt.xlabel('Genetic Disorder')\n",
    "plt.ylabel('Count')\n",
    "plt.show()\n"
   ]
  },
  {
   "cell_type": "code",
   "execution_count": null,
   "metadata": {},
   "outputs": [],
   "source": [
    "labels_disorder = 'Mitochondrial genetic inheritance disorders', 'Single-gene inheritance diseases', 'Multifactorial genetic inheritance disorders'\n",
    "explode_disorder = (0, 0, 0)\n",
    "\n",
    "\n",
    "plt.pie(y_train_res_df.Genetic_Disorder.value_counts(), explode=explode_disorder, labels=labels_disorder, autopct='%1.1f%%',\n",
    "        shadow=True, startangle=90);"
   ]
  },
  {
   "cell_type": "code",
   "execution_count": null,
   "metadata": {},
   "outputs": [],
   "source": []
  },
  {
   "cell_type": "code",
   "execution_count": null,
   "metadata": {},
   "outputs": [],
   "source": [
    "X_train_res.columns"
   ]
  },
  {
   "cell_type": "code",
   "execution_count": null,
   "metadata": {},
   "outputs": [],
   "source": [
    "# Assuming y_train_res is the resampled target variable from SMOTE\n",
    "X_train_res['Genetic_Disorder'] = y_train_res.values"
   ]
  },
  {
   "cell_type": "code",
   "execution_count": null,
   "metadata": {},
   "outputs": [],
   "source": [
    "X_train_res_df = pd.DataFrame(X_train_res, columns=['Patient_Age', 'Genes_Mothers_Side', 'Inherited_Father',\n",
    "       'Maternal_gene', 'Paternal_gene', 'Blood_Cell_mcL', 'Mothers_age',\n",
    "       'Fathers_age', 'Status', 'Respiratory_Rate_breaths_min',\n",
    "       'Heart_Rates_Min', 'Parental_consent', 'Follow_up', 'Gender',\n",
    "       'Birth_asphyxia', 'Autopsy_Birth_Defect', 'Folic_Acid',\n",
    "       'Maternal_Illness', 'Radiation_Exposure', 'Substance_Abuse',\n",
    "       'Assisted_Conception', 'History_Previous_Pregnancies',\n",
    "       'Previous_Abortion', 'Birth_Defects', 'White_Blood_Cell',\n",
    "       'Blood_test_result', 'Disorder_Subclass', 'Genetic_Disorder'])"
   ]
  },
  {
   "cell_type": "code",
   "execution_count": null,
   "metadata": {},
   "outputs": [],
   "source": [
    "# Define a mapping dictionary\n",
    "disorder_mapping = {\n",
    "    0: 'Mitochondrial genetic inheritance disorders',\n",
    "    1: 'Multifactorial genetic inheritance disorders',\n",
    "    2: 'Single-gene inheritance diseases'\n",
    "}\n",
    "\n",
    "# Map the numeric values to disorder names\n",
    "X_train_res_df['Genetic_Disorder'] = X_train_res_df['Genetic_Disorder'].replace(disorder_mapping)"
   ]
  },
  {
   "cell_type": "code",
   "execution_count": null,
   "metadata": {},
   "outputs": [],
   "source": []
  },
  {
   "cell_type": "markdown",
   "metadata": {},
   "source": [
    "Encoding mapping for 'Genes_Mothers_Side':\n",
    "  0: Yes\n",
    "  1: No\n",
    "\n",
    "\n",
    "Encoding mapping for 'Inherited_Father':\n",
    "  0: No\n",
    "  1: Yes\n",
    "\n",
    "\n",
    "Encoding mapping for 'Maternal_gene':\n",
    "  0: Yes\n",
    "  1: No\n",
    "\n",
    "\n",
    "Encoding mapping for 'Paternal_gene':\n",
    "  0: No\n",
    "  1: Yes\n",
    "\n",
    "\n",
    "Encoding mapping for 'Gender':\n",
    "  0: Ambiguous\n",
    "  1: Male\n",
    "  2: Female\n",
    "\n",
    "\n",
    "Encoding mapping for 'Birth_asphyxia':\n",
    "  0: Yes\n",
    "  1: No record\n",
    "  2: Not available\n",
    "  3: No\n",
    "\n",
    "\n",
    "Encoding mapping for 'Autopsy_Birth_Defect':\n",
    "  0: Not applicable\n",
    "  1: No\n",
    "  2: Yes\n",
    "\n",
    "\n",
    "Encoding mapping for 'Folic_Acid':\n",
    "  0: No\n",
    "  1: Yes\n",
    "\n",
    "\n",
    "Encoding mapping for 'Maternal_Illness':\n",
    "  0: No\n",
    "  1: Yes\n",
    "\n",
    "\n",
    "Encoding mapping for 'Radiation_Exposure':\n",
    "  0: No\n",
    "  1: Yes\n",
    "  2: -\n",
    "  3: Not applicable\n",
    "\n",
    "\n",
    "Encoding mapping for 'Substance_Abuse':\n",
    "  0: No\n",
    "  1: Not applicable\n",
    "  2: -\n",
    "  3: Yes\n",
    "\n",
    "\n",
    "Encoding mapping for 'Assisted_Conception':\n",
    "  0: No\n",
    "  1: Yes\n",
    "\n",
    "\n",
    "Encoding mapping for 'Birth_Defects':\n",
    "  0: Multiple\n",
    "  1: Singular\n"
   ]
  },
  {
   "cell_type": "code",
   "execution_count": null,
   "metadata": {},
   "outputs": [],
   "source": [
    "import matplotlib.pyplot as plt\n",
    "import seaborn as sns\n",
    "\n",
    "# Define the columns for plotting\n",
    "cols = [\n",
    "    'Genes_Mothers_Side', 'Inherited_Father', 'Maternal_gene', 'Paternal_gene', \n",
    "    'Gender', 'Birth_asphyxia', 'Autopsy_Birth_Defect', \n",
    "    'Folic_Acid', 'Maternal_Illness',\n",
    "    'Radiation_Exposure', 'Substance_Abuse', \n",
    "    'Assisted_Conception', 'Birth_Defects'\n",
    "]\n",
    "\n",
    "# Create subplots\n",
    "fig, ax = plt.subplots(len(cols), figsize=(15, 45), constrained_layout=True)\n",
    "\n",
    "# Plot each categorical column with hue as 'Genetic_Disorder'\n",
    "for i, var in enumerate(cols): \n",
    "    sns.countplot(data=X_train_res_df, x=var, hue='Genetic_Disorder', ax=ax[i], linewidth=1.5)\n",
    "    ax[i].set_ylabel(var)\n",
    "    ax[i].set_xlabel(None)\n",
    "\n",
    "# Show the plots\n",
    "plt.show()\n"
   ]
  },
  {
   "cell_type": "markdown",
   "metadata": {},
   "source": [
    "# Implementing Models\n"
   ]
  },
  {
   "cell_type": "code",
   "execution_count": null,
   "metadata": {},
   "outputs": [],
   "source": [
    "# Import necessary libraries\n",
    "from sklearn.ensemble import StackingClassifier\n",
    "from sklearn.linear_model import LogisticRegression\n",
    "from sklearn.ensemble import RandomForestClassifier, GradientBoostingClassifier\n",
    "from sklearn.svm import SVC\n",
    "from sklearn.metrics import classification_report, accuracy_score\n",
    "from xgboost import XGBClassifier\n",
    "\n",
    "# Define base classifiers\n",
    "base_classifiers = [\n",
    "    ('rf', RandomForestClassifier(random_state=42)),\n",
    "    ('gb', GradientBoostingClassifier(random_state=42)),\n",
    "    ('xgb', XGBClassifier(use_label_encoder=False, eval_metric='mlogloss')),\n",
    "    ('svc', SVC(probability=True, random_state=42))\n",
    "]\n",
    "\n",
    "# Define the meta-classifier\n",
    "meta_classifier = LogisticRegression()\n",
    "\n",
    "# Create the stacking classifier\n",
    "stacking_classifier = StackingClassifier(\n",
    "    estimators=base_classifiers,\n",
    "    final_estimator=meta_classifier,\n",
    "    cv=5\n",
    ")\n",
    "\n",
    "# Train the stacking classifier\n",
    "stacking_classifier.fit(X_train_res, y_train_res)\n",
    "\n",
    "# Make predictions on the test set\n",
    "y_pred = stacking_classifier.predict(X_test)\n",
    "\n",
    "# Evaluate the model\n",
    "print(\"Accuracy:\", accuracy_score(y_test, y_pred))\n",
    "print(classification_report(y_test, y_pred, target_names=disorder_mapping.values()))"
   ]
  }
 ],
 "metadata": {
  "kernelspec": {
   "display_name": "Python 3",
   "language": "python",
   "name": "python3"
  },
  "language_info": {
   "codemirror_mode": {
    "name": "ipython",
    "version": 3
   },
   "file_extension": ".py",
   "mimetype": "text/x-python",
   "name": "python",
   "nbconvert_exporter": "python",
   "pygments_lexer": "ipython3",
   "version": "3.12.0"
  }
 },
 "nbformat": 4,
 "nbformat_minor": 2
}
