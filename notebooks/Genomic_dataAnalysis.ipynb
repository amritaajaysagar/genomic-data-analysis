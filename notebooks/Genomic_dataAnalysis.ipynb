{
 "cells": [
  {
   "cell_type": "code",
   "execution_count": 1,
   "metadata": {},
   "outputs": [],
   "source": [
    "import pandas as pd"
   ]
  },
  {
   "cell_type": "code",
   "execution_count": 3,
   "metadata": {},
   "outputs": [],
   "source": [
    "test_data = pd.read_csv(\"C:\\\\Users\\\\Sarat\\\\OneDrive - Thompson Rivers University\\\\School\\\\Semester 3\\\\ADSC3920_01 - Applied Data Science Project I\\\\ADSC 3920 Shared Project File\\\\Datasets\\\\Genetic Diseases Data -Sept9 (AAJ)\\\\test.csv\")"
   ]
  },
  {
   "cell_type": "code",
   "execution_count": 4,
   "metadata": {},
   "outputs": [],
   "source": [
    "train_data = pd.read_csv(\"C:\\\\Users\\\\Sarat\\\\OneDrive - Thompson Rivers University\\\\School\\\\Semester 3\\\\ADSC3920_01 - Applied Data Science Project I\\\\ADSC 3920 Shared Project File\\\\Datasets\\\\Genetic Diseases Data -Sept9 (AAJ)\\\\train.csv\")"
   ]
  },
  {
   "cell_type": "code",
   "execution_count": 5,
   "metadata": {},
   "outputs": [
    {
     "data": {
      "text/html": [
       "<div>\n",
       "<style scoped>\n",
       "    .dataframe tbody tr th:only-of-type {\n",
       "        vertical-align: middle;\n",
       "    }\n",
       "\n",
       "    .dataframe tbody tr th {\n",
       "        vertical-align: top;\n",
       "    }\n",
       "\n",
       "    .dataframe thead th {\n",
       "        text-align: right;\n",
       "    }\n",
       "</style>\n",
       "<table border=\"1\" class=\"dataframe\">\n",
       "  <thead>\n",
       "    <tr style=\"text-align: right;\">\n",
       "      <th></th>\n",
       "      <th>Patient Id</th>\n",
       "      <th>Patient Age</th>\n",
       "      <th>Genes in mother's side</th>\n",
       "      <th>Inherited from father</th>\n",
       "      <th>Maternal gene</th>\n",
       "      <th>Paternal gene</th>\n",
       "      <th>Blood cell count (mcL)</th>\n",
       "      <th>Patient First Name</th>\n",
       "      <th>Family Name</th>\n",
       "      <th>Father's name</th>\n",
       "      <th>...</th>\n",
       "      <th>Birth defects</th>\n",
       "      <th>White Blood cell count (thousand per microliter)</th>\n",
       "      <th>Blood test result</th>\n",
       "      <th>Symptom 1</th>\n",
       "      <th>Symptom 2</th>\n",
       "      <th>Symptom 3</th>\n",
       "      <th>Symptom 4</th>\n",
       "      <th>Symptom 5</th>\n",
       "      <th>Genetic Disorder</th>\n",
       "      <th>Disorder Subclass</th>\n",
       "    </tr>\n",
       "  </thead>\n",
       "  <tbody>\n",
       "    <tr>\n",
       "      <th>0</th>\n",
       "      <td>PID0x6418</td>\n",
       "      <td>2.0</td>\n",
       "      <td>Yes</td>\n",
       "      <td>No</td>\n",
       "      <td>Yes</td>\n",
       "      <td>No</td>\n",
       "      <td>4.760603</td>\n",
       "      <td>Richard</td>\n",
       "      <td>NaN</td>\n",
       "      <td>Larre</td>\n",
       "      <td>...</td>\n",
       "      <td>NaN</td>\n",
       "      <td>9.857562</td>\n",
       "      <td>NaN</td>\n",
       "      <td>1.0</td>\n",
       "      <td>1.0</td>\n",
       "      <td>1.0</td>\n",
       "      <td>1.0</td>\n",
       "      <td>1.0</td>\n",
       "      <td>Mitochondrial genetic inheritance disorders</td>\n",
       "      <td>Leber's hereditary optic neuropathy</td>\n",
       "    </tr>\n",
       "    <tr>\n",
       "      <th>1</th>\n",
       "      <td>PID0x25d5</td>\n",
       "      <td>4.0</td>\n",
       "      <td>Yes</td>\n",
       "      <td>Yes</td>\n",
       "      <td>No</td>\n",
       "      <td>No</td>\n",
       "      <td>4.910669</td>\n",
       "      <td>Mike</td>\n",
       "      <td>NaN</td>\n",
       "      <td>Brycen</td>\n",
       "      <td>...</td>\n",
       "      <td>Multiple</td>\n",
       "      <td>5.522560</td>\n",
       "      <td>normal</td>\n",
       "      <td>1.0</td>\n",
       "      <td>NaN</td>\n",
       "      <td>1.0</td>\n",
       "      <td>1.0</td>\n",
       "      <td>0.0</td>\n",
       "      <td>NaN</td>\n",
       "      <td>Cystic fibrosis</td>\n",
       "    </tr>\n",
       "    <tr>\n",
       "      <th>2</th>\n",
       "      <td>PID0x4a82</td>\n",
       "      <td>6.0</td>\n",
       "      <td>Yes</td>\n",
       "      <td>No</td>\n",
       "      <td>No</td>\n",
       "      <td>No</td>\n",
       "      <td>4.893297</td>\n",
       "      <td>Kimberly</td>\n",
       "      <td>NaN</td>\n",
       "      <td>Nashon</td>\n",
       "      <td>...</td>\n",
       "      <td>Singular</td>\n",
       "      <td>NaN</td>\n",
       "      <td>normal</td>\n",
       "      <td>0.0</td>\n",
       "      <td>1.0</td>\n",
       "      <td>1.0</td>\n",
       "      <td>1.0</td>\n",
       "      <td>1.0</td>\n",
       "      <td>Multifactorial genetic inheritance disorders</td>\n",
       "      <td>Diabetes</td>\n",
       "    </tr>\n",
       "    <tr>\n",
       "      <th>3</th>\n",
       "      <td>PID0x4ac8</td>\n",
       "      <td>12.0</td>\n",
       "      <td>Yes</td>\n",
       "      <td>No</td>\n",
       "      <td>Yes</td>\n",
       "      <td>No</td>\n",
       "      <td>4.705280</td>\n",
       "      <td>Jeffery</td>\n",
       "      <td>Hoelscher</td>\n",
       "      <td>Aayaan</td>\n",
       "      <td>...</td>\n",
       "      <td>Singular</td>\n",
       "      <td>7.919321</td>\n",
       "      <td>inconclusive</td>\n",
       "      <td>0.0</td>\n",
       "      <td>0.0</td>\n",
       "      <td>1.0</td>\n",
       "      <td>0.0</td>\n",
       "      <td>0.0</td>\n",
       "      <td>Mitochondrial genetic inheritance disorders</td>\n",
       "      <td>Leigh syndrome</td>\n",
       "    </tr>\n",
       "    <tr>\n",
       "      <th>4</th>\n",
       "      <td>PID0x1bf7</td>\n",
       "      <td>11.0</td>\n",
       "      <td>Yes</td>\n",
       "      <td>No</td>\n",
       "      <td>NaN</td>\n",
       "      <td>Yes</td>\n",
       "      <td>4.720703</td>\n",
       "      <td>Johanna</td>\n",
       "      <td>Stutzman</td>\n",
       "      <td>Suave</td>\n",
       "      <td>...</td>\n",
       "      <td>Multiple</td>\n",
       "      <td>4.098210</td>\n",
       "      <td>NaN</td>\n",
       "      <td>0.0</td>\n",
       "      <td>0.0</td>\n",
       "      <td>0.0</td>\n",
       "      <td>0.0</td>\n",
       "      <td>NaN</td>\n",
       "      <td>Multifactorial genetic inheritance disorders</td>\n",
       "      <td>Cancer</td>\n",
       "    </tr>\n",
       "  </tbody>\n",
       "</table>\n",
       "<p>5 rows × 45 columns</p>\n",
       "</div>"
      ],
      "text/plain": [
       "  Patient Id  Patient Age Genes in mother's side Inherited from father  \\\n",
       "0  PID0x6418          2.0                    Yes                    No   \n",
       "1  PID0x25d5          4.0                    Yes                   Yes   \n",
       "2  PID0x4a82          6.0                    Yes                    No   \n",
       "3  PID0x4ac8         12.0                    Yes                    No   \n",
       "4  PID0x1bf7         11.0                    Yes                    No   \n",
       "\n",
       "  Maternal gene Paternal gene  Blood cell count (mcL) Patient First Name  \\\n",
       "0           Yes            No                4.760603            Richard   \n",
       "1            No            No                4.910669               Mike   \n",
       "2            No            No                4.893297           Kimberly   \n",
       "3           Yes            No                4.705280            Jeffery   \n",
       "4           NaN           Yes                4.720703            Johanna   \n",
       "\n",
       "  Family Name Father's name  ...  Birth defects  \\\n",
       "0         NaN         Larre  ...            NaN   \n",
       "1         NaN        Brycen  ...       Multiple   \n",
       "2         NaN        Nashon  ...       Singular   \n",
       "3   Hoelscher        Aayaan  ...       Singular   \n",
       "4    Stutzman         Suave  ...       Multiple   \n",
       "\n",
       "   White Blood cell count (thousand per microliter) Blood test result  \\\n",
       "0                                          9.857562               NaN   \n",
       "1                                          5.522560            normal   \n",
       "2                                               NaN            normal   \n",
       "3                                          7.919321      inconclusive   \n",
       "4                                          4.098210               NaN   \n",
       "\n",
       "  Symptom 1 Symptom 2 Symptom 3 Symptom 4  Symptom 5  \\\n",
       "0       1.0       1.0       1.0       1.0        1.0   \n",
       "1       1.0       NaN       1.0       1.0        0.0   \n",
       "2       0.0       1.0       1.0       1.0        1.0   \n",
       "3       0.0       0.0       1.0       0.0        0.0   \n",
       "4       0.0       0.0       0.0       0.0        NaN   \n",
       "\n",
       "                               Genetic Disorder  \\\n",
       "0   Mitochondrial genetic inheritance disorders   \n",
       "1                                           NaN   \n",
       "2  Multifactorial genetic inheritance disorders   \n",
       "3   Mitochondrial genetic inheritance disorders   \n",
       "4  Multifactorial genetic inheritance disorders   \n",
       "\n",
       "                     Disorder Subclass  \n",
       "0  Leber's hereditary optic neuropathy  \n",
       "1                      Cystic fibrosis  \n",
       "2                             Diabetes  \n",
       "3                       Leigh syndrome  \n",
       "4                               Cancer  \n",
       "\n",
       "[5 rows x 45 columns]"
      ]
     },
     "execution_count": 5,
     "metadata": {},
     "output_type": "execute_result"
    }
   ],
   "source": [
    "train_data.head()"
   ]
  },
  {
   "cell_type": "code",
   "execution_count": 6,
   "metadata": {},
   "outputs": [],
   "source": [
    "# Remove quotes and replace spaces with underscores\n",
    "train_data.columns = [col.strip().replace(\"'\", '').replace(' ', '_') for col in train_data.columns]\n",
    "\n",
    "test_data.columns = [col.strip().replace(\"'\", '').replace(' ', '_') for col in test_data.columns]\n"
   ]
  },
  {
   "cell_type": "code",
   "execution_count": 7,
   "metadata": {},
   "outputs": [
    {
     "name": "stdout",
     "output_type": "stream",
     "text": [
      "Patient_Id                                             0\n",
      "Patient_Age                                            0\n",
      "Genes_in_mothers_side                                  0\n",
      "Inherited_from_father                                551\n",
      "Maternal_gene                                       3723\n",
      "Paternal_gene                                          0\n",
      "Blood_cell_count_(mcL)                                 0\n",
      "Patient_First_Name                                     0\n",
      "Family_Name                                         9317\n",
      "Fathers_name                                           0\n",
      "Mothers_age                                            0\n",
      "Fathers_age                                            0\n",
      "Institute_Name                                      2036\n",
      "Location_of_Institute                                  0\n",
      "Status                                                 0\n",
      "Respiratory_Rate_(breaths/min)                      2886\n",
      "Heart_Rate_(rates/min                               2900\n",
      "Test_1                                                 0\n",
      "Test_2                                                 0\n",
      "Test_3                                                 0\n",
      "Test_4                                                 0\n",
      "Test_5                                                 0\n",
      "Parental_consent                                       0\n",
      "Follow-up                                              0\n",
      "Gender                                                 0\n",
      "Birth_asphyxia                                         0\n",
      "Autopsy_shows_birth_defect_(if_applicable)          1200\n",
      "Place_of_birth                                         0\n",
      "Folic_acid_details_(peri-conceptional)                 0\n",
      "H/O_serious_maternal_illness                           0\n",
      "H/O_radiation_exposure_(x-ray)                         0\n",
      "H/O_substance_abuse                                    0\n",
      "Assisted_conception_IVF/ART                            0\n",
      "History_of_anomalies_in_previous_pregnancies           0\n",
      "No._of_previous_abortion                               0\n",
      "Birth_defects                                          0\n",
      "White_Blood_cell_count_(thousand_per_microliter)       0\n",
      "Blood_test_result                                      0\n",
      "Symptom_1                                              0\n",
      "Symptom_2                                              0\n",
      "Symptom_3                                              0\n",
      "Symptom_4                                              0\n",
      "Symptom_5                                              0\n",
      "dtype: int64\n"
     ]
    }
   ],
   "source": [
    "test_data\n",
    "\n",
    "na_values=test_data.isnull().sum()\n",
    "print(na_values)"
   ]
  },
  {
   "cell_type": "code",
   "execution_count": 13,
   "metadata": {},
   "outputs": [
    {
     "name": "stdout",
     "output_type": "stream",
     "text": [
      "Patient Id                                             0\n",
      "Patient Age                                         1427\n",
      "Genes in mother's side                                 0\n",
      "Inherited from father                                306\n",
      "Maternal gene                                       2810\n",
      "Paternal gene                                          0\n",
      "Blood cell count (mcL)                                 0\n",
      "Patient First Name                                     0\n",
      "Family Name                                         9691\n",
      "Father's name                                          0\n",
      "Mother's age                                        6036\n",
      "Father's age                                        5986\n",
      "Institute Name                                      5106\n",
      "Location of Institute                                  0\n",
      "Status                                                 0\n",
      "Respiratory Rate (breaths/min)                      2149\n",
      "Heart Rate (rates/min                               2113\n",
      "Test 1                                              2127\n",
      "Test 2                                              2152\n",
      "Test 3                                              2147\n",
      "Test 4                                              2140\n",
      "Test 5                                              2170\n",
      "Parental consent                                    2125\n",
      "Follow-up                                           2166\n",
      "Gender                                              2173\n",
      "Birth asphyxia                                      2139\n",
      "Autopsy shows birth defect (if applicable)          4392\n",
      "Place of birth                                      2124\n",
      "Folic acid details (peri-conceptional)              2117\n",
      "H/O serious maternal illness                        2152\n",
      "H/O radiation exposure (x-ray)                      2153\n",
      "H/O substance abuse                                 2195\n",
      "Assisted conception IVF/ART                         2122\n",
      "History of anomalies in previous pregnancies        2172\n",
      "No. of previous abortion                            2162\n",
      "Birth defects                                       2154\n",
      "White Blood cell count (thousand per microliter)    2148\n",
      "Blood test result                                   2145\n",
      "Symptom 1                                           2155\n",
      "Symptom 2                                           2222\n",
      "Symptom 3                                           2101\n",
      "Symptom 4                                           2113\n",
      "Symptom 5                                           2153\n",
      "Genetic Disorder                                    2146\n",
      "Disorder Subclass                                   2168\n",
      "dtype: int64\n"
     ]
    }
   ],
   "source": [
    "train_data\n",
    "\n",
    "na_values_train=train_data.isnull().sum()\n",
    "print(na_values_train)"
   ]
  },
  {
   "cell_type": "code",
   "execution_count": 8,
   "metadata": {},
   "outputs": [
    {
     "data": {
      "text/plain": [
       "Index(['Patient_Id', 'Patient_Age', 'Genes_in_mothers_side',\n",
       "       'Inherited_from_father', 'Maternal_gene', 'Paternal_gene',\n",
       "       'Blood_cell_count_(mcL)', 'Patient_First_Name', 'Family_Name',\n",
       "       'Fathers_name', 'Mothers_age', 'Fathers_age', 'Institute_Name',\n",
       "       'Location_of_Institute', 'Status', 'Respiratory_Rate_(breaths/min)',\n",
       "       'Heart_Rate_(rates/min', 'Test_1', 'Test_2', 'Test_3', 'Test_4',\n",
       "       'Test_5', 'Parental_consent', 'Follow-up', 'Gender', 'Birth_asphyxia',\n",
       "       'Autopsy_shows_birth_defect_(if_applicable)', 'Place_of_birth',\n",
       "       'Folic_acid_details_(peri-conceptional)',\n",
       "       'H/O_serious_maternal_illness', 'H/O_radiation_exposure_(x-ray)',\n",
       "       'H/O_substance_abuse', 'Assisted_conception_IVF/ART',\n",
       "       'History_of_anomalies_in_previous_pregnancies',\n",
       "       'No._of_previous_abortion', 'Birth_defects',\n",
       "       'White_Blood_cell_count_(thousand_per_microliter)', 'Blood_test_result',\n",
       "       'Symptom_1', 'Symptom_2', 'Symptom_3', 'Symptom_4', 'Symptom_5',\n",
       "       'Genetic_Disorder', 'Disorder_Subclass'],\n",
       "      dtype='object')"
      ]
     },
     "execution_count": 8,
     "metadata": {},
     "output_type": "execute_result"
    }
   ],
   "source": [
    "train_data.columns"
   ]
  },
  {
   "cell_type": "code",
   "execution_count": 9,
   "metadata": {},
   "outputs": [],
   "source": [
    "test_data=test_data.drop(columns=['Patient_First_Name', 'Family_Name',\n",
    "       'Fathers_name','Institute_Name',\n",
    "       'Location_of_Institute', 'Status', 'Test_1', 'Test_2', 'Test_3', 'Test_4',\n",
    "       'Test_5', 'Parental_consent', 'Place_of_birth',\n",
    "       'Symptom_1', 'Symptom_2', 'Symptom_3', 'Symptom_4', 'Symptom_5'])"
   ]
  },
  {
   "cell_type": "code",
   "execution_count": 10,
   "metadata": {},
   "outputs": [],
   "source": [
    "train_data=train_data.drop(columns=['Patient_First_Name', 'Family_Name',\n",
    "       'Fathers_name','Institute_Name',\n",
    "       'Location_of_Institute', 'Status', 'Test_1', 'Test_2', 'Test_3', 'Test_4',\n",
    "       'Test_5', 'Parental_consent', 'Place_of_birth',\n",
    "       'Symptom_1', 'Symptom_2', 'Symptom_3', 'Symptom_4', 'Symptom_5'])"
   ]
  },
  {
   "cell_type": "code",
   "execution_count": 41,
   "metadata": {},
   "outputs": [
    {
     "name": "stdout",
     "output_type": "stream",
     "text": [
      "Patient_Id                                             0\n",
      "Patient_Age                                            0\n",
      "Genes_in_mothers_side                                  0\n",
      "Inherited_from_father                                551\n",
      "Maternal_gene                                       3723\n",
      "Paternal_gene                                          0\n",
      "Blood_cell_count_(mcL)                                 0\n",
      "Mothers_age                                            0\n",
      "Fathers_age                                            0\n",
      "Respiratory_Rate_(breaths/min)                      2886\n",
      "Heart_Rate_(rates/min                               2900\n",
      "Follow-up                                              0\n",
      "Gender                                                 0\n",
      "Birth_asphyxia                                         0\n",
      "Autopsy_shows_birth_defect_(if_applicable)          1200\n",
      "Folic_acid_details_(peri-conceptional)                 0\n",
      "H/O_serious_maternal_illness                           0\n",
      "H/O_radiation_exposure_(x-ray)                         0\n",
      "H/O_substance_abuse                                    0\n",
      "Assisted_conception_IVF/ART                            0\n",
      "History_of_anomalies_in_previous_pregnancies           0\n",
      "No._of_previous_abortion                               0\n",
      "Birth_defects                                          0\n",
      "White_Blood_cell_count_(thousand_per_microliter)       0\n",
      "Blood_test_result                                      0\n",
      "dtype: int64\n"
     ]
    }
   ],
   "source": [
    "\n",
    "na_values_test=test_data.isnull().sum()\n",
    "print(na_values_test)"
   ]
  },
  {
   "cell_type": "code",
   "execution_count": 42,
   "metadata": {},
   "outputs": [
    {
     "name": "stdout",
     "output_type": "stream",
     "text": [
      "Patient_Id                                             0\n",
      "Patient_Age                                         1427\n",
      "Genes_in_mothers_side                                  0\n",
      "Inherited_from_father                                306\n",
      "Maternal_gene                                       2810\n",
      "Paternal_gene                                          0\n",
      "Blood_cell_count_(mcL)                                 0\n",
      "Mothers_age                                         6036\n",
      "Fathers_age                                         5986\n",
      "Respiratory_Rate_(breaths/min)                      2149\n",
      "Heart_Rate_(rates/min                               2113\n",
      "Follow-up                                           2166\n",
      "Gender                                              2173\n",
      "Birth_asphyxia                                      2139\n",
      "Autopsy_shows_birth_defect_(if_applicable)          4392\n",
      "Folic_acid_details_(peri-conceptional)              2117\n",
      "H/O_serious_maternal_illness                        2152\n",
      "H/O_radiation_exposure_(x-ray)                      2153\n",
      "H/O_substance_abuse                                 2195\n",
      "Assisted_conception_IVF/ART                         2122\n",
      "History_of_anomalies_in_previous_pregnancies        2172\n",
      "No._of_previous_abortion                            2162\n",
      "Birth_defects                                       2154\n",
      "White_Blood_cell_count_(thousand_per_microliter)    2148\n",
      "Blood_test_result                                   2145\n",
      "Genetic_Disorder                                    2146\n",
      "Disorder_Subclass                                   2168\n",
      "dtype: int64\n"
     ]
    }
   ],
   "source": [
    "na_values_train=train_data.isnull().sum()\n",
    "print(na_values_train)"
   ]
  },
  {
   "cell_type": "code",
   "execution_count": 9,
   "metadata": {},
   "outputs": [
    {
     "data": {
      "text/plain": [
       "0         Mitochondrial genetic inheritance disorders\n",
       "1                                                 NaN\n",
       "2        Multifactorial genetic inheritance disorders\n",
       "3         Mitochondrial genetic inheritance disorders\n",
       "4        Multifactorial genetic inheritance disorders\n",
       "                             ...                     \n",
       "22078     Mitochondrial genetic inheritance disorders\n",
       "22079    Multifactorial genetic inheritance disorders\n",
       "22080     Mitochondrial genetic inheritance disorders\n",
       "22081                                             NaN\n",
       "22082    Multifactorial genetic inheritance disorders\n",
       "Name: Genetic_Disorder, Length: 22083, dtype: object"
      ]
     },
     "execution_count": 9,
     "metadata": {},
     "output_type": "execute_result"
    }
   ],
   "source": [
    "train_data['Genetic_Disorder']"
   ]
  },
  {
   "cell_type": "code",
   "execution_count": 12,
   "metadata": {},
   "outputs": [
    {
     "data": {
      "text/plain": [
       "Genetic_Disorder\n",
       "Mitochondrial genetic inheritance disorders     10202\n",
       "Single-gene inheritance diseases                 7664\n",
       "Multifactorial genetic inheritance disorders     2071\n",
       "Name: count, dtype: int64"
      ]
     },
     "execution_count": 12,
     "metadata": {},
     "output_type": "execute_result"
    }
   ],
   "source": [
    "train_data['Genetic_Disorder'].value_counts()"
   ]
  },
  {
   "cell_type": "code",
   "execution_count": 14,
   "metadata": {},
   "outputs": [
    {
     "data": {
      "text/plain": [
       "2146"
      ]
     },
     "execution_count": 14,
     "metadata": {},
     "output_type": "execute_result"
    }
   ],
   "source": [
    "train_data['Genetic_Disorder'].isnull().sum()"
   ]
  },
  {
   "cell_type": "code",
   "execution_count": 21,
   "metadata": {},
   "outputs": [
    {
     "data": {
      "text/plain": [
       "0         Mitochondrial genetic inheritance disorders\n",
       "1                                                 NaN\n",
       "2        Multifactorial genetic inheritance disorders\n",
       "3         Mitochondrial genetic inheritance disorders\n",
       "4        Multifactorial genetic inheritance disorders\n",
       "                             ...                     \n",
       "22078     Mitochondrial genetic inheritance disorders\n",
       "22079    Multifactorial genetic inheritance disorders\n",
       "22080     Mitochondrial genetic inheritance disorders\n",
       "22081                                             NaN\n",
       "22082    Multifactorial genetic inheritance disorders\n",
       "Name: Genetic_Disorder, Length: 22083, dtype: object"
      ]
     },
     "execution_count": 21,
     "metadata": {},
     "output_type": "execute_result"
    }
   ],
   "source": [
    "train_data['Genetic_Disorder']"
   ]
  },
  {
   "cell_type": "code",
   "execution_count": 20,
   "metadata": {},
   "outputs": [
    {
     "data": {
      "text/plain": [
       "22083"
      ]
     },
     "execution_count": 20,
     "metadata": {},
     "output_type": "execute_result"
    }
   ],
   "source": [
    "10202+7664+2071+2146"
   ]
  },
  {
   "cell_type": "code",
   "execution_count": 23,
   "metadata": {},
   "outputs": [
    {
     "data": {
      "text/plain": [
       "2168"
      ]
     },
     "execution_count": 23,
     "metadata": {},
     "output_type": "execute_result"
    }
   ],
   "source": [
    "train_data['Disorder_Subclass'].isnull().sum()"
   ]
  },
  {
   "cell_type": "code",
   "execution_count": 1,
   "metadata": {},
   "outputs": [
    {
     "ename": "NameError",
     "evalue": "name 'train' is not defined",
     "output_type": "error",
     "traceback": [
      "\u001b[1;31m---------------------------------------------------------------------------\u001b[0m",
      "\u001b[1;31mNameError\u001b[0m                                 Traceback (most recent call last)",
      "Cell \u001b[1;32mIn[1], line 26\u001b[0m\n\u001b[0;32m     23\u001b[0m     plt\u001b[38;5;241m.\u001b[39mshow()\n\u001b[0;32m     25\u001b[0m \u001b[38;5;66;03m# Call the function\u001b[39;00m\n\u001b[1;32m---> 26\u001b[0m compare_sex_distribution(\u001b[43mtrain\u001b[49m, test,\u001b[38;5;124m\"\u001b[39m\u001b[38;5;124mSex\u001b[39m\u001b[38;5;124m\"\u001b[39m)\n",
      "\u001b[1;31mNameError\u001b[0m: name 'train' is not defined"
     ]
    }
   ],
   "source": [
    "import matplotlib.pyplot as plt\n",
    "\n",
    "# Function to calculate and visualize male/female proportions\n",
    "def compare_sex_distribution(train, test,col_name):\n",
    "    # Calculate proportions\n",
    "    train_par = train[col_name].value_counts(normalize=True) * 100\n",
    "    test_par = test[col_name].value_counts(normalize=True) * 100\n",
    "    \n",
    "    # Combine into a DataFrame for easier plotting\n",
    "    sex_comparison = pd.DataFrame({\n",
    "        'Train': train_par,\n",
    "        'Test': test_par\n",
    "    }).T\n",
    "\n",
    "    # Plotting\n",
    "    sex_comparison.plot(kind='bar', figsize=(8, 6))\n",
    "    plt.title('Comparison of  Distributions in Train and Test Sets')\n",
    "    plt.ylabel('Percentage')\n",
    "    plt.xlabel('Dataset')\n",
    "    plt.xticks(rotation=0)\n",
    "    plt.legend(title=col_name)\n",
    "    plt.tight_layout()\n",
    "    plt.show()\n",
    "\n",
    "# Call the function\n",
    "compare_sex_distribution(train, test,\"Sex\")\n"
   ]
  },
  {
   "cell_type": "code",
   "execution_count": null,
   "metadata": {},
   "outputs": [],
   "source": []
  }
 ],
 "metadata": {
  "kernelspec": {
   "display_name": "group11env",
   "language": "python",
   "name": "python3"
  },
  "language_info": {
   "codemirror_mode": {
    "name": "ipython",
    "version": 3
   },
   "file_extension": ".py",
   "mimetype": "text/x-python",
   "name": "python",
   "nbconvert_exporter": "python",
   "pygments_lexer": "ipython3",
   "version": "3.12.0"
  }
 },
 "nbformat": 4,
 "nbformat_minor": 2
}
